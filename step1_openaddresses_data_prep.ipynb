{
 "cells": [
  {
   "cell_type": "markdown",
   "metadata": {},
   "source": [
    "# OpenAddresses data preparation\n",
    "\n",
    "- Author: Didier Guillevic\n",
    "- Date: 2024-08-10"
   ]
  },
  {
   "cell_type": "markdown",
   "metadata": {},
   "source": [
    "### TL;DR\n",
    "\n",
    "- We will use Canadian postal address data from [OpenAdresses.io](https://openaddresses.io)\n",
    "- We will format addresses as a list of words and labels.\n",
    "- We might wish to \"de-normalize\" the data; e.g.\n",
    "    - all postal codes are 6 contiguous letters (e.g. \"A0G1E0\"), we might wish to\n",
    "      randomly assign a space between the first and lasat 3 characters\n",
    "      (e.g. \"A0G 1E0\") which might be more similar to the way people write.\n",
    "    - the city names appear to be all upper case. We might lowercase the entire text.\n",
    "    - the region names are the two letters abbreviations. We might wish to randonly replace those with the full name of the region.\n",
    "- We will load that data as a HuggingFace Dataset"
   ]
  },
  {
   "cell_type": "markdown",
   "metadata": {},
   "source": [
    "## Data: OpenAdresses"
   ]
  },
  {
   "cell_type": "markdown",
   "metadata": {},
   "source": [
    "The data is presented as [jsonline](https://jsonlines.org) format (one address per line).\n",
    "A sample address has the following format: \n",
    "```\n",
    "{\n",
    "    \"type\": \"Feature\",\n",
    "    \"properties\": {\n",
    "        \"hash\": \"42c5facec7f5f9f5\",\n",
    "        \"number\": \"434\",\n",
    "        \"street\": \"Main ST\",\n",
    "        \"unit\": \"\",\n",
    "        \"city\": \"BIRCHY BAY\",\n",
    "        \"district\": \"\",\n",
    "        \"region\": \"NL\",\n",
    "        \"postcode\": \"A0G1E0\",\n",
    "        \"id\": \"\"},\n",
    "    \"geometry\": {\n",
    "        \"type\": \"Point\",\n",
    "        \"coordinates\": [-54.7197282, 49.3584932]}\n",
    "}\n",
    "```\n",
    "Hence, a sample address has 3 main keys:\n",
    "- type: ??? (\"Feature\" is the only value? to be checked)\n",
    "- properties: a dictionary with all the address components\n",
    "- geometry: a dictionary with two keys \"type\" and \"coordinates\" representing the\n",
    "  (latitude, longitude) coordinates"
   ]
  },
  {
   "cell_type": "code",
   "execution_count": 1,
   "metadata": {},
   "outputs": [],
   "source": [
    "from datasets import load_dataset, Dataset\n",
    "import pandas as pd"
   ]
  },
  {
   "cell_type": "markdown",
   "metadata": {},
   "source": [
    "### Load dataset"
   ]
  },
  {
   "cell_type": "code",
   "execution_count": null,
   "metadata": {},
   "outputs": [],
   "source": [
    "dataset_path = \"./openaddresses/ca/countrywide-addresses-country.jsonl\"\n",
    "\n",
    "dataset_orig = load_dataset(\"json\", data_files=dataset_path, split='train')\n",
    "dataset_orig"
   ]
  },
  {
   "cell_type": "markdown",
   "metadata": {},
   "source": [
    "### Re-format / keep desired columns"
   ]
  },
  {
   "cell_type": "code",
   "execution_count": null,
   "metadata": {},
   "outputs": [],
   "source": [
    "def change_format_dataset(dataset: Dataset) -> Dataset:\n",
    "    \"\"\"Clean up: json_normalize() columns properties and geometry. Omit empty columns.\"\"\"\n",
    "    # Convert to pandas DataFrame so we can use the json_normalize() function\n",
    "    dataset.set_format('pandas')\n",
    "    df = dataset[:]\n",
    "    dataset.reset_format()\n",
    "    \n",
    "    # json_normalize()\n",
    "    df_properties = pd.json_normalize(df['properties'])\n",
    "    df_geometry = pd.json_normalize(df['geometry'])\n",
    "\n",
    "    # Omit columns with no data\n",
    "    df_address = pd.concat(\n",
    "        [\n",
    "            df_properties.drop(['hash', 'district', 'id'], axis=1),\n",
    "            df_geometry.drop('type', axis=1),\n",
    "        ],\n",
    "        axis=1\n",
    "    )\n",
    "\n",
    "    # Return a Dataset instance\n",
    "    return Dataset.from_pandas(df_address)"
   ]
  },
  {
   "cell_type": "code",
   "execution_count": null,
   "metadata": {},
   "outputs": [],
   "source": [
    "dataset = change_format_dataset(dataset_orig)\n",
    "dataset"
   ]
  },
  {
   "cell_type": "markdown",
   "metadata": {},
   "source": [
    "### Split data into train / validation / test sets"
   ]
  },
  {
   "cell_type": "code",
   "execution_count": null,
   "metadata": {},
   "outputs": [],
   "source": [
    "def create_val_test_sets(dataset: Dataset, train_size: float=0.9, seed: int=0) -> Dataset:\n",
    "    \"\"\"Given a dataset, add a validation and test partitions\n",
    "    \"\"\"\n",
    "    dataset_tmp = dataset.train_test_split(train_size=train_size, seed=seed)\n",
    "    # We will set validation to be 2/3 and test 1/3 of the non-training data\n",
    "    dataset_new = dataset_tmp['test'].train_test_split(train_size=2/3, seed=seed)\n",
    "    dataset_new['validation'] = dataset_new['train']\n",
    "    dataset_new['train'] = dataset_tmp['train']\n",
    "    return dataset_new"
   ]
  },
  {
   "cell_type": "code",
   "execution_count": null,
   "metadata": {},
   "outputs": [],
   "source": [
    "dataset_tr_val_te = create_val_test_sets(dataset, train_size=0.95)\n",
    "dataset_tr_val_te"
   ]
  },
  {
   "cell_type": "markdown",
   "metadata": {},
   "source": [
    "### Save dataset"
   ]
  },
  {
   "cell_type": "code",
   "execution_count": null,
   "metadata": {},
   "outputs": [],
   "source": [
    "dataset_name = \"openaddresses_ca\"\n",
    "for split, dataset in dataset_tr_val_te.items():\n",
    "    dataset.to_parquet(f\"{dataset_name}_{split}.parquet\")"
   ]
  },
  {
   "cell_type": "code",
   "execution_count": null,
   "metadata": {},
   "outputs": [],
   "source": []
  }
 ],
 "metadata": {
  "kernelspec": {
   "display_name": "postal",
   "language": "python",
   "name": "python3"
  },
  "language_info": {
   "codemirror_mode": {
    "name": "ipython",
    "version": 3
   },
   "file_extension": ".py",
   "mimetype": "text/x-python",
   "name": "python",
   "nbconvert_exporter": "python",
   "pygments_lexer": "ipython3",
   "version": "3.12.4"
  }
 },
 "nbformat": 4,
 "nbformat_minor": 2
}
